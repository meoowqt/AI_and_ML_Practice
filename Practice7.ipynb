{
  "nbformat": 4,
  "nbformat_minor": 0,
  "metadata": {
    "colab": {
      "provenance": []
    },
    "kernelspec": {
      "name": "python3",
      "display_name": "Python 3"
    },
    "language_info": {
      "name": "python"
    }
  },
  "cells": [
    {
      "cell_type": "code",
      "execution_count": 195,
      "metadata": {
        "id": "gpsnxjWImh4O"
      },
      "outputs": [],
      "source": [
        "import pandas as pd\n",
        "from sklearn.datasets import load_wine\n",
        "\n",
        "data = load_wine()\n",
        "df = pd.DataFrame(data.data, columns=data.feature_names)\n",
        "\n",
        "selected_features = ['malic_acid', 'flavanoids', 'nonflavanoid_phenols', 'proanthocyanins']\n",
        "X = df[selected_features]\n",
        "y = data.target"
      ]
    },
    {
      "cell_type": "code",
      "source": [
        "from sklearn.model_selection import train_test_split\n",
        "\n",
        "X_train, X_test, y_train, y_test = train_test_split(X, y, test_size=0.3, random_state=42)"
      ],
      "metadata": {
        "id": "oXuTA2iAnI45"
      },
      "execution_count": 196,
      "outputs": []
    },
    {
      "cell_type": "code",
      "source": [
        "from sklearn.tree import DecisionTreeClassifier\n",
        "from sklearn.model_selection import GridSearchCV\n",
        "\n",
        "# Определение параметров для поиска\n",
        "param_grid = {\n",
        "    'max_depth': [1, 2, 3, 4],\n",
        "    'min_samples_split': [2, 5, 10],\n",
        "    'min_samples_leaf': [1, 2, 4]\n",
        "}\n",
        "\n",
        "tree_classifier = DecisionTreeClassifier(random_state=42)\n",
        "grid_search = GridSearchCV(tree_classifier, param_grid, cv=5, scoring='accuracy')\n",
        "grid_search.fit(X_train, y_train)\n",
        "\n",
        "best_tree = grid_search.best_estimator_\n",
        "print(\"Лучшие параметры для дерева решений:\", grid_search.best_params_)"
      ],
      "metadata": {
        "colab": {
          "base_uri": "https://localhost:8080/"
        },
        "id": "oyoQe5UanJdP",
        "outputId": "47007650-533a-41a6-da3d-6fde8f5f5b04"
      },
      "execution_count": 197,
      "outputs": [
        {
          "output_type": "stream",
          "name": "stdout",
          "text": [
            "Лучшие параметры для дерева решений: {'max_depth': 2, 'min_samples_leaf': 1, 'min_samples_split': 2}\n"
          ]
        }
      ]
    },
    {
      "cell_type": "code",
      "source": [
        "from sklearn.ensemble import RandomForestClassifier\n",
        "\n",
        "param_grid_rf = {\n",
        "    'max_depth': [1, 2, 3, 4],\n",
        "    'min_samples_split': [2, 5, 10, 40],\n",
        "    'min_samples_leaf': [1, 2, 4]\n",
        "}\n",
        "\n",
        "rf_classifier = RandomForestClassifier(random_state=42)\n",
        "grid_search_rf = GridSearchCV(rf_classifier, param_grid_rf, cv=5, scoring='accuracy')\n",
        "grid_search_rf.fit(X_train, y_train)\n",
        "\n",
        "best_rf = grid_search_rf.best_estimator_\n",
        "print(\"Лучшие параметры случайного леса наименьшей высоты:\", grid_search_rf.best_params_)"
      ],
      "metadata": {
        "colab": {
          "base_uri": "https://localhost:8080/"
        },
        "id": "Ys88bFvOnMDH",
        "outputId": "67699422-ec50-4551-91a4-608bac6beefa"
      },
      "execution_count": 198,
      "outputs": [
        {
          "output_type": "stream",
          "name": "stdout",
          "text": [
            "Лучшие параметры случайного леса наименьшей высоты: {'max_depth': 4, 'min_samples_leaf': 4, 'min_samples_split': 10}\n"
          ]
        }
      ]
    },
    {
      "cell_type": "code",
      "source": [
        "param_grid_opt = {\n",
        "    'n_estimators': [20, 25, 30],\n",
        "    'max_depth': [1, 2, 3, 4],\n",
        "    'min_samples_split': [10, 20, 25],\n",
        "    'min_samples_leaf': [1, 2, 4]\n",
        "}\n",
        "\n",
        "grid_search_opt = GridSearchCV(rf_classifier, param_grid_opt, cv=5, scoring='accuracy')\n",
        "grid_search_opt.fit(X_train, y_train)\n",
        "\n",
        "best_rf_opt = grid_search_opt.best_estimator_\n",
        "print(\"Лучшие параметры для оптимального случайного леса наименьшей высоты и с минимальным количеством деревьев:\", grid_search_opt.best_params_)"
      ],
      "metadata": {
        "colab": {
          "base_uri": "https://localhost:8080/"
        },
        "id": "Kfkn5-EQnNg1",
        "outputId": "f6e9237f-d0a6-42fd-8c6a-e9b8887fab6b"
      },
      "execution_count": 199,
      "outputs": [
        {
          "output_type": "stream",
          "name": "stdout",
          "text": [
            "Лучшие параметры для оптимального случайного леса наименьшей высоты и с минимальным количеством деревьев: {'max_depth': 4, 'min_samples_leaf': 4, 'min_samples_split': 10, 'n_estimators': 25}\n"
          ]
        }
      ]
    },
    {
      "cell_type": "code",
      "source": [
        "from sklearn.metrics import accuracy_score\n",
        "\n",
        "y_pred_tree = best_tree.predict(X_test)\n",
        "accuracy_tree = accuracy_score(y_test, y_pred_tree)\n",
        "print(\"Точность дерева решений:\", accuracy_tree)\n",
        "\n",
        "y_pred_rf = best_rf.predict(X_test)\n",
        "accuracy_rf = accuracy_score(y_test, y_pred_rf)\n",
        "print(\"Точность случайного леса:\", accuracy_rf)\n",
        "\n",
        "y_pred_rf_opt = best_rf_opt.predict(X_test)\n",
        "accuracy_rf_opt = accuracy_score(y_test, y_pred_rf_opt)\n",
        "print(\"Точность оптимального случайного леса:\", accuracy_rf_opt)"
      ],
      "metadata": {
        "colab": {
          "base_uri": "https://localhost:8080/"
        },
        "id": "QY0w1nXpnPMp",
        "outputId": "fa42495f-15eb-4e67-efa1-8af1c0c86c3f"
      },
      "execution_count": 200,
      "outputs": [
        {
          "output_type": "stream",
          "name": "stdout",
          "text": [
            "Точность дерева решений: 0.8148148148148148\n",
            "Точность случайного леса: 0.8518518518518519\n",
            "Точность оптимального случайного леса: 0.8518518518518519\n"
          ]
        }
      ]
    },
    {
      "cell_type": "code",
      "source": [
        "## Наилучшие результаты показали случайные деревья, значения точности которых оказались равны. Это значит, что для случайного леса были выбраны наилучшие параметры,\n",
        "##как по высоте деревьев, так и по количеству деревьев, что подтвердилось при выборе параметров для оптимального леса"
      ],
      "metadata": {
        "id": "Rxrfk9t6dSnZ"
      },
      "execution_count": 201,
      "outputs": []
    }
  ]
}