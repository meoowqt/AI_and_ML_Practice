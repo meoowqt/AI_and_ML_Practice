{
  "cells": [
    {
      "cell_type": "code",
      "execution_count": 120,
      "metadata": {
        "id": "lYQ5wLqsfGN-"
      },
      "outputs": [],
      "source": [
        "import numpy as np\n",
        "import pandas as pd\n",
        "\n",
        "import matplotlib.pyplot as plt\n",
        "from matplotlib.colors import ListedColormap\n",
        "from sklearn.model_selection import train_test_split\n",
        "\n",
        "from sklearn import svm\n",
        "from sklearn.discriminant_analysis import LinearDiscriminantAnalysis\n",
        "from sklearn.neighbors import KNeighborsClassifier"
      ]
    },
    {
      "cell_type": "code",
      "source": [
        "import warnings\n",
        "warnings.filterwarnings(\"ignore\", category=DeprecationWarning)\n",
        "warnings.filterwarnings(\"ignore\", category=FutureWarning)\n",
        "warnings.filterwarnings(\"ignore\", category=UserWarning)"
      ],
      "metadata": {
        "id": "4VbVE5hCPJ8v"
      },
      "execution_count": 121,
      "outputs": []
    },
    {
      "cell_type": "code",
      "source": [
        "names = ['SVM linear',\n",
        "         'Nearest Neighbors 3',\n",
        "         'Linear Discriminant Analysis'\n",
        "         ]\n",
        "\n",
        "classifiers = [\n",
        "    svm.SVC(kernel='linear', max_iter=1000),\n",
        "    KNeighborsClassifier(n_neighbors=3),\n",
        "    LinearDiscriminantAnalysis(solver='svd'),\n",
        "\n",
        "]"
      ],
      "metadata": {
        "id": "UZ5Kf_14CtWz"
      },
      "execution_count": 122,
      "outputs": []
    },
    {
      "cell_type": "code",
      "execution_count": 123,
      "metadata": {
        "id": "GYQZeT2Ccywb"
      },
      "outputs": [],
      "source": [
        "from sklearn.datasets import load_wine\n",
        "\n",
        "data = load_wine()\n",
        "\n",
        "X, y = data.data, data.target\n",
        "feature_names = data.feature_names"
      ]
    },
    {
      "cell_type": "code",
      "execution_count": 124,
      "metadata": {
        "id": "FHwVE9lpeTLV"
      },
      "outputs": [],
      "source": [
        "X_train, X_test, y_train, y_test = train_test_split(X, y, test_size=0.3, random_state=42)"
      ]
    },
    {
      "cell_type": "code",
      "execution_count": 125,
      "metadata": {
        "id": "DBys18Dyp1ij"
      },
      "outputs": [],
      "source": [
        "best_features = {}\n",
        "best_accuracies = {}"
      ]
    },
    {
      "cell_type": "code",
      "execution_count": 126,
      "metadata": {
        "id": "VBrRChDseU6w",
        "colab": {
          "base_uri": "https://localhost:8080/"
        },
        "outputId": "49545598-078c-4c41-8014-15405cdd4d12"
      },
      "outputs": [
        {
          "output_type": "stream",
          "name": "stdout",
          "text": [
            "SVM linear - Лучшая пара признаков: ['alcohol', 'flavanoids'], Точность: 0.9444\n",
            "\n",
            "Classification Report for SVM linear:\n",
            "              precision    recall  f1-score   support\n",
            "\n",
            "           0       0.90      1.00      0.95        19\n",
            "           1       1.00      0.90      0.95        21\n",
            "           2       0.93      0.93      0.93        14\n",
            "\n",
            "    accuracy                           0.94        54\n",
            "   macro avg       0.94      0.94      0.94        54\n",
            "weighted avg       0.95      0.94      0.94        54\n",
            "\n",
            "\n",
            "Nearest Neighbors 3 - Лучшая пара признаков: ['alcohol', 'flavanoids'], Точность: 0.9074\n",
            "\n",
            "Classification Report for Nearest Neighbors 3:\n",
            "              precision    recall  f1-score   support\n",
            "\n",
            "           0       0.90      1.00      0.95        19\n",
            "           1       0.94      0.81      0.87        21\n",
            "           2       0.87      0.93      0.90        14\n",
            "\n",
            "    accuracy                           0.91        54\n",
            "   macro avg       0.91      0.91      0.91        54\n",
            "weighted avg       0.91      0.91      0.91        54\n",
            "\n",
            "\n",
            "Linear Discriminant Analysis - Лучшая пара признаков: ['hue', 'proline'], Точность: 0.9630\n",
            "\n",
            "Classification Report for Linear Discriminant Analysis:\n",
            "              precision    recall  f1-score   support\n",
            "\n",
            "           0       1.00      1.00      1.00        19\n",
            "           1       0.95      0.95      0.95        21\n",
            "           2       0.93      0.93      0.93        14\n",
            "\n",
            "    accuracy                           0.96        54\n",
            "   macro avg       0.96      0.96      0.96        54\n",
            "weighted avg       0.96      0.96      0.96        54\n",
            "\n",
            "\n"
          ]
        }
      ],
      "source": [
        "from itertools import combinations\n",
        "from sklearn.metrics import accuracy_score, classification_report\n",
        "\n",
        "for clf_name, clf in zip(names, classifiers):\n",
        "    best_accuracy = 0\n",
        "    best_pair = None\n",
        "\n",
        "    for feature_pair in combinations(range(X.shape[1]), 2):\n",
        "        X_train_pair = X_train[:, list(feature_pair)]\n",
        "        X_test_pair = X_test[:, list(feature_pair)]\n",
        "\n",
        "        clf.fit(X_train_pair, y_train)\n",
        "        y_pred = clf.predict(X_test_pair)\n",
        "        accuracy = accuracy_score(y_test, y_pred)\n",
        "\n",
        "        if accuracy > best_accuracy:\n",
        "            best_accuracy = accuracy\n",
        "            best_pair = feature_pair\n",
        "\n",
        "    best_features[clf_name] = [feature_names[i] for i in best_pair]\n",
        "    best_accuracies[clf_name] = best_accuracy\n",
        "    print(f\"{clf_name} - Лучшая пара признаков: {best_features[clf_name]}, Точность: {best_accuracy:.4f}\")\n",
        "\n",
        "    X_train_best = X_train[:, list(best_pair)]\n",
        "    X_test_best = X_test[:, list(best_pair)]\n",
        "    clf.fit(X_train_best, y_train)\n",
        "    y_pred_best = clf.predict(X_test_best)\n",
        "    print(f\"\\nClassification Report for {clf_name}:\\n{classification_report(y_test, y_pred_best)}\\n\")"
      ]
    },
    {
      "cell_type": "code",
      "execution_count": 127,
      "metadata": {
        "id": "4CYaj7yceZaz",
        "colab": {
          "base_uri": "https://localhost:8080/"
        },
        "outputId": "bdf08c14-74d8-43fd-8f80-65b7b9f5bffb"
      },
      "outputs": [
        {
          "output_type": "stream",
          "name": "stdout",
          "text": [
            "\n",
            "Итоговые лучшие пары признаков и точности:\n",
            "SVM linear:\n",
            "\tПара признаков - ['alcohol', 'flavanoids'],\n",
            "\taccuracy - 0.9444\n",
            "Nearest Neighbors 3:\n",
            "\tПара признаков - ['alcohol', 'flavanoids'],\n",
            "\taccuracy - 0.9074\n",
            "Linear Discriminant Analysis:\n",
            "\tПара признаков - ['hue', 'proline'],\n",
            "\taccuracy - 0.9630\n"
          ]
        }
      ],
      "source": [
        "##Вывод\n",
        "print(\"\\nИтоговые лучшие пары признаков и точности:\")\n",
        "for clf_name in best_features:\n",
        "    print(f\"{clf_name}:\\n\\tПара признаков - {best_features[clf_name]},\\n\\taccuracy - {best_accuracies[clf_name]:.4f}\")\n",
        "\n",
        "##Лучше всего себя показал LDA и пара 'hue', 'proline'\n",
        "##Скорее всего это связанно с тем, что эта пара наиболее хорошо разделимая\n",
        "##Nearest Neighbors 3 показал себя хуже всего, потому что количество соседей для данного дата сета выбрано не оптимально."
      ]
    }
  ],
  "metadata": {
    "colab": {
      "provenance": [],
      "gpuType": "T4"
    },
    "kernelspec": {
      "display_name": "Python 3",
      "name": "python3"
    },
    "language_info": {
      "name": "python"
    }
  },
  "nbformat": 4,
  "nbformat_minor": 0
}