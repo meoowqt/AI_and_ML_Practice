{
  "nbformat": 4,
  "nbformat_minor": 0,
  "metadata": {
    "colab": {
      "provenance": []
    },
    "kernelspec": {
      "name": "python3",
      "display_name": "Python 3"
    },
    "language_info": {
      "name": "python"
    }
  },
  "cells": [
    {
      "cell_type": "code",
      "execution_count": null,
      "metadata": {
        "id": "nY_b_6gvMd82"
      },
      "outputs": [],
      "source": [
        "import numpy as np\n",
        "import pandas as pd\n",
        "from sklearn.datasets import load_wine\n",
        "from sklearn.model_selection import train_test_split\n",
        "from sklearn.naive_bayes import GaussianNB\n",
        "from sklearn.neighbors import KNeighborsClassifier\n",
        "from sklearn.decomposition import PCA\n",
        "from sklearn.discriminant_analysis import LinearDiscriminantAnalysis\n",
        "from sklearn.metrics import accuracy_score"
      ]
    },
    {
      "cell_type": "code",
      "source": [
        "wine = load_wine()\n",
        "df = pd.DataFrame(data=wine.data, columns=wine.feature_names)\n",
        "\n",
        "features = ['hue', 'alcohol', 'malic_acid']\n",
        "X = df[features]\n",
        "y = wine.target\n",
        "\n",
        "X_train, X_test, y_train, y_test = train_test_split(X, y, test_size=0.3, random_state=42)"
      ],
      "metadata": {
        "id": "3DYV15Ea8nHa"
      },
      "execution_count": null,
      "outputs": []
    },
    {
      "cell_type": "code",
      "source": [
        "bayes_classifier = GaussianNB()\n",
        "bayes_classifier.fit(X_train, y_train)\n",
        "y_pred_bayes = bayes_classifier.predict(X_test)\n",
        "\n",
        "knn_classifier = KNeighborsClassifier(n_neighbors=5)\n",
        "knn_classifier.fit(X_train, y_train)\n",
        "y_pred_knn = knn_classifier.predict(X_test)"
      ],
      "metadata": {
        "id": "v1X5Bfg8M1Nq"
      },
      "execution_count": null,
      "outputs": []
    },
    {
      "cell_type": "code",
      "source": [
        "pca = PCA(n_components=2)\n",
        "X_train_pca = pca.fit_transform(X_train)\n",
        "X_test_pca = pca.transform(X_test)\n",
        "\n",
        "bayes_classifier.fit(X_train_pca, y_train)\n",
        "y_pred_bayes_pca = bayes_classifier.predict(X_test_pca)\n",
        "accuracy_bayes_pca = accuracy_score(y_test, y_pred_bayes_pca)\n",
        "print(f\"Точность классификатора Байеса после PCA: {accuracy_bayes_pca:.2f}\")\n",
        "\n",
        "knn_classifier.fit(X_train_pca, y_train)\n",
        "y_pred_knn_pca = knn_classifier.predict(X_test_pca)\n",
        "accuracy_knn_pca = accuracy_score(y_test, y_pred_knn_pca)\n",
        "print(f\"Точность классификатора KNN после PCA: {accuracy_knn_pca:.2f}\")"
      ],
      "metadata": {
        "colab": {
          "base_uri": "https://localhost:8080/"
        },
        "id": "jY00LEgxM2Sa",
        "outputId": "1bbdb94b-589b-41ec-88e1-2ccf42347e6a"
      },
      "execution_count": null,
      "outputs": [
        {
          "output_type": "stream",
          "name": "stdout",
          "text": [
            "Точность классификатора Байеса после PCA: 0.76\n",
            "Точность классификатора KNN после PCA: 0.78\n"
          ]
        }
      ]
    },
    {
      "cell_type": "code",
      "source": [
        "lda = LinearDiscriminantAnalysis(n_components=1)\n",
        "X_train_lda = lda.fit_transform(X_train, y_train)\n",
        "X_test_lda = lda.transform(X_test)\n",
        "\n",
        "bayes_classifier_lda = GaussianNB()\n",
        "bayes_classifier_lda.fit(X_train_lda, y_train)\n",
        "y_pred_bayes_lda = bayes_classifier_lda.predict(X_test_lda)\n",
        "accuracy_bayes_lda = accuracy_score(y_test, y_pred_bayes_lda)\n",
        "print(f\"Точность классификатора Байеса после LDA: {accuracy_bayes_lda:.2f}\")\n",
        "\n",
        "knn_classifier_lda = KNeighborsClassifier(n_neighbors=5)\n",
        "knn_classifier_lda.fit(X_train_lda, y_train)\n",
        "y_pred_knn_lda = knn_classifier_lda.predict(X_test_lda)\n",
        "accuracy_knn_lda = accuracy_score(y_test, y_pred_knn_lda)\n",
        "print(f\"Точность классификатора KNN после LDA: {accuracy_knn_lda:.2f}\")"
      ],
      "metadata": {
        "colab": {
          "base_uri": "https://localhost:8080/"
        },
        "id": "INy93bG6M5zp",
        "outputId": "48b9d6de-5597-48ca-dd6c-5aa1ac688f89"
      },
      "execution_count": null,
      "outputs": [
        {
          "output_type": "stream",
          "name": "stdout",
          "text": [
            "Точность классификатора Байеса после LDA: 0.69\n",
            "Точность классификатора KNN после LDA: 0.69\n"
          ]
        }
      ]
    },
    {
      "cell_type": "markdown",
      "source": [
        "Результаты из задания 4\n",
        "\n",
        "\n",
        "---\n",
        "\n",
        "\n",
        "Пара: hue, alcohol\n",
        "\n",
        "Точность классификатора Байеса: 0.89\n",
        "\n",
        "Точность классификатора KNN: 0.85\n",
        "\n",
        "\n",
        "---\n",
        "\n",
        "\n",
        "Пара: hue, malic_acid\n",
        "\n",
        "Точность классификатора Байеса: 0.67\n",
        "\n",
        "Точность классификатора KNN: 0.72\n",
        "\n",
        "\n",
        "---\n",
        "\n",
        "\n",
        "Пара: alcohol, malic_acid\n",
        "\n",
        "Точность классификатора Байеса: 0.76\n",
        "\n",
        "Точность классификатора KNN: 0.80\n",
        "\n",
        "\n",
        "---\n",
        "\n",
        "\n",
        "Лучшая пара hue, alcohol с классификатором Байеса и точностью 0.89"
      ],
      "metadata": {
        "id": "aFV5S8aJHCwa"
      }
    },
    {
      "cell_type": "code",
      "source": [
        "print(f\"Точность классификатора Байеса после PCA: {accuracy_bayes_pca:.2f}\")\n",
        "print(f\"Точность классификатора KNN после PCA: {accuracy_knn_pca:.2f}\")\n",
        "print(f\"Точность классификатора Байеса после LDA: {accuracy_bayes_lda:.2f}\")\n",
        "print(f\"Точность классификатора KNN после LDA: {accuracy_knn_lda:.2f}\")"
      ],
      "metadata": {
        "colab": {
          "base_uri": "https://localhost:8080/"
        },
        "id": "y0JlvtSBM7mz",
        "outputId": "8a594528-408e-458a-8f70-773b3c177d83"
      },
      "execution_count": null,
      "outputs": [
        {
          "output_type": "stream",
          "name": "stdout",
          "text": [
            "Точность классификатора Байеса после PCA: 0.76\n",
            "Точность классификатора KNN после PCA: 0.78\n",
            "Точность классификатора Байеса после LDA: 0.69\n",
            "Точность классификатора KNN после LDA: 0.69\n"
          ]
        }
      ]
    },
    {
      "cell_type": "code",
      "source": [
        "#Вывод: результаты классификации ухудшились как после метода главных компонент, так и после линейного дискриминантного анализа\n",
        "#Это может быть связанно с тем, что классы плохо разделимые, поэтому анализ главных компонент не сработал\n",
        "#Таким образом, исходные данные показывают более хорошие результаты"
      ],
      "metadata": {
        "id": "lBIdqtnfQTY6"
      },
      "execution_count": null,
      "outputs": []
    }
  ]
}